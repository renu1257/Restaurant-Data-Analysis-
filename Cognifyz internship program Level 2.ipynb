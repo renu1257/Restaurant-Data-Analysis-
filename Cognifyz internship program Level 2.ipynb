{
 "cells": [
  {
   "cell_type": "markdown",
   "id": "f15e76b5",
   "metadata": {},
   "source": [
    "# Cognifyz Internship Program"
   ]
  },
  {
   "cell_type": "markdown",
   "id": "836bbc9b",
   "metadata": {},
   "source": [
    "# Restaurant Data Analysis"
   ]
  },
  {
   "cell_type": "markdown",
   "id": "8589bc41",
   "metadata": {},
   "source": [
    "<b> Author :- RENUKA PARAB <b>\n",
    "  "
   ]
  },
  {
   "cell_type": "markdown",
   "id": "5c67d5ec",
   "metadata": {},
   "source": [
    "# Level 2 :"
   ]
  },
  {
   "cell_type": "markdown",
   "id": "71b2a10e",
   "metadata": {},
   "source": [
    "<b>Task 1: Table Booking and Online Delivery Analysis <b>"
   ]
  },
  {
   "cell_type": "markdown",
   "id": "8245cc2f",
   "metadata": {},
   "source": [
    "<ol>\n",
    "    <li> Determine the percentage of restaurants that offer table booking and online delivery. </li>\n",
    "    <li>Conducted a comparative analysis of average ratings for restaurants with and without table booking.</li>\n",
    "    <li>Explore the availability of online delivery options across various price ranges, revealing valuable insights into customer preferences. </li>\n",
    "<ol>"
   ]
  },
  {
   "cell_type": "markdown",
   "id": "8a3c7351",
   "metadata": {},
   "source": [
    "<b> Task 2: Price Range Analysis <b>"
   ]
  },
  {
   "cell_type": "markdown",
   "id": "085ca253",
   "metadata": {},
   "source": [
    "<ol>\n",
    "    <li>Determine the most common price range among all restaurants. </li>\n",
    "    <li>Calculate the average rating for each price range to pinpoint top-performing price segments. </li>\n",
    "    <li>Determine the color linked to the highest average rating, making it easier to find the top-rated price ranges.</li>\n",
    "</ol>\n",
    " "
   ]
  },
  {
   "cell_type": "markdown",
   "id": "54086294",
   "metadata": {},
   "source": [
    "<b>Task 3: Feature Engineering<b>"
   ]
  },
  {
   "cell_type": "markdown",
   "id": "d9c155c0",
   "metadata": {},
   "source": [
    "<ol>\n",
    "    <li>Utilize sophisticated feature engineering methods to derive additional insights from existing data columns, such as the length of restaurant name or address .</li>\n",
    "    <li>Create new attributes such as \"Has Table Booking\" and \"Has Online Delivery\" through categorical variable encoding, enriching the dataset's analytical depth.</li>\n",
    "</ol>\n"
   ]
  },
  {
   "cell_type": "markdown",
   "id": "eb622bb7",
   "metadata": {},
   "source": [
    "# Level 2 - Task 1"
   ]
  },
  {
   "cell_type": "markdown",
   "id": "53b39020",
   "metadata": {},
   "source": [
    "<b>Task 1: Table Booking and Online Delivery Analysis <b>"
   ]
  },
  {
   "cell_type": "code",
   "execution_count": 1,
   "id": "3f3985db",
   "metadata": {},
   "outputs": [],
   "source": [
    "# importing the warnings \n",
    "import warnings\n",
    "warnings.filterwarnings('ignore')"
   ]
  },
  {
   "cell_type": "code",
   "execution_count": 2,
   "id": "88457a17",
   "metadata": {},
   "outputs": [],
   "source": [
    "# Importing the libraries which we are going to use for EDA\n",
    "import pandas as pd\n",
    "import numpy as np\n",
    "import matplotlib.pyplot as plt\n",
    "%matplotlib inline\n",
    "import seaborn as sns ;sns.set(color_codes = True)"
   ]
  },
  {
   "cell_type": "code",
   "execution_count": 3,
   "id": "82a0c98d",
   "metadata": {},
   "outputs": [],
   "source": [
    "# load the dataset\n",
    "df1 = pd.read_csv(\"new_Dataset .csv\")"
   ]
  },
  {
   "cell_type": "code",
   "execution_count": 4,
   "id": "9e7818a3",
   "metadata": {},
   "outputs": [
    {
     "data": {
      "text/plain": [
       "Restaurant ID           0\n",
       "Restaurant Name         0\n",
       "Country Code            0\n",
       "City                    0\n",
       "Address                 0\n",
       "Locality                0\n",
       "Locality Verbose        0\n",
       "Longitude               0\n",
       "Latitude                0\n",
       "Cuisines                0\n",
       "Average Cost for two    0\n",
       "Currency                0\n",
       "Has Table booking       0\n",
       "Has Online delivery     0\n",
       "Is delivering now       0\n",
       "Switch to order menu    0\n",
       "Price range             0\n",
       "Aggregate rating        0\n",
       "Rating color            0\n",
       "Rating text             0\n",
       "Votes                   0\n",
       "dtype: int64"
      ]
     },
     "execution_count": 4,
     "metadata": {},
     "output_type": "execute_result"
    }
   ],
   "source": [
    "df1.isnull().sum()"
   ]
  },
  {
   "cell_type": "code",
   "execution_count": 5,
   "id": "b3b336f9",
   "metadata": {},
   "outputs": [
    {
     "name": "stdout",
     "output_type": "stream",
     "text": [
      "<class 'pandas.core.frame.DataFrame'>\n",
      "RangeIndex: 9551 entries, 0 to 9550\n",
      "Data columns (total 21 columns):\n",
      " #   Column                Non-Null Count  Dtype  \n",
      "---  ------                --------------  -----  \n",
      " 0   Restaurant ID         9551 non-null   int64  \n",
      " 1   Restaurant Name       9551 non-null   object \n",
      " 2   Country Code          9551 non-null   int64  \n",
      " 3   City                  9551 non-null   object \n",
      " 4   Address               9551 non-null   object \n",
      " 5   Locality              9551 non-null   object \n",
      " 6   Locality Verbose      9551 non-null   object \n",
      " 7   Longitude             9551 non-null   float64\n",
      " 8   Latitude              9551 non-null   float64\n",
      " 9   Cuisines              9551 non-null   object \n",
      " 10  Average Cost for two  9551 non-null   int64  \n",
      " 11  Currency              9551 non-null   object \n",
      " 12  Has Table booking     9551 non-null   object \n",
      " 13  Has Online delivery   9551 non-null   object \n",
      " 14  Is delivering now     9551 non-null   object \n",
      " 15  Switch to order menu  9551 non-null   object \n",
      " 16  Price range           9551 non-null   int64  \n",
      " 17  Aggregate rating      9551 non-null   float64\n",
      " 18  Rating color          9551 non-null   object \n",
      " 19  Rating text           9551 non-null   object \n",
      " 20  Votes                 9551 non-null   int64  \n",
      "dtypes: float64(3), int64(5), object(13)\n",
      "memory usage: 1.5+ MB\n"
     ]
    }
   ],
   "source": [
    "df1.info()"
   ]
  },
  {
   "cell_type": "markdown",
   "id": "b2cee96a",
   "metadata": {},
   "source": [
    "<b> 1.Determine the percentage of restaurants that offer table booking and online delivery <b>"
   ]
  },
  {
   "cell_type": "code",
   "execution_count": 6,
   "id": "3d85212d",
   "metadata": {},
   "outputs": [],
   "source": [
    "# Total number of restaurants\n",
    "total_restaurants = len(df1)"
   ]
  },
  {
   "cell_type": "code",
   "execution_count": 7,
   "id": "fd52f466",
   "metadata": {},
   "outputs": [
    {
     "name": "stdout",
     "output_type": "stream",
     "text": [
      "Percentage of restaurants offering Table Booking: 12.12%\n",
      "Percentage of restaurants offering Online Delivery: 25.66%\n"
     ]
    }
   ],
   "source": [
    "# Percentage calculation\n",
    "table_booking_percentage = (df1['Has Table booking'] == 'Yes').sum() / total_restaurants * 100\n",
    "online_delivery_percentage =(df1['Has Online delivery']== 'Yes').sum()/ total_restaurants*100\n",
    "\n",
    "print(f\"Percentage of restaurants offering Table Booking: {table_booking_percentage:.2f}%\")\n",
    "print(f\"Percentage of restaurants offering Online Delivery: {online_delivery_percentage:.2f}%\")"
   ]
  },
  {
   "cell_type": "markdown",
   "id": "4cc08fa3",
   "metadata": {},
   "source": [
    "<b>2. Compare the average ratings of restaurants with table bookings and those without.<b>"
   ]
  },
  {
   "cell_type": "code",
   "execution_count": 8,
   "id": "ce57fbf8",
   "metadata": {},
   "outputs": [
    {
     "name": "stdout",
     "output_type": "stream",
     "text": [
      "Rows with Table Booking : (1158, 21)\n",
      "Rows without Table Booking : (8393, 21)\n"
     ]
    }
   ],
   "source": [
    "# Filter the Data frame for rows with \"yes\"& \"no\" in the ' table booking ' column \n",
    "df_with_table_booking = df1[df1['Has Table booking']== 'Yes']\n",
    "df_without_table_booking = df1[df1['Has Table booking']== 'No']\n",
    "\n",
    "# After filtering rows with and without table booking \n",
    "print(\"Rows with Table Booking :\", df_with_table_booking.shape)\n",
    "print(\"Rows without Table Booking :\" ,df_without_table_booking.shape)"
   ]
  },
  {
   "cell_type": "code",
   "execution_count": 9,
   "id": "74908da8",
   "metadata": {},
   "outputs": [
    {
     "name": "stdout",
     "output_type": "stream",
     "text": [
      "Average Ratings:- \n",
      " With Table Bookings: 3.44\n",
      " Without Table Bookings: 2.56\n"
     ]
    }
   ],
   "source": [
    "# Average Ratings of Restaurants \n",
    "print(\"Average Ratings:- \")\n",
    "print(\" With Table Bookings:\", round(df_with_table_booking['Aggregate rating'].mean(),2))\n",
    "print(\" Without Table Bookings:\", round(df_without_table_booking['Aggregate rating'].mean(),2))"
   ]
  },
  {
   "cell_type": "markdown",
   "id": "3bbbcdb0",
   "metadata": {},
   "source": [
    "<b>3. Availability of Online Delivery <b>"
   ]
  },
  {
   "cell_type": "code",
   "execution_count": 10,
   "id": "154d5950",
   "metadata": {},
   "outputs": [],
   "source": [
    "from matplotlib.transforms import Bbox"
   ]
  },
  {
   "cell_type": "code",
   "execution_count": 11,
   "id": "140f4837",
   "metadata": {},
   "outputs": [
    {
     "data": {
      "image/png": "[encoded data removed]",
      "text/plain": [
       "<Figure size 1000x600 with 1 Axes>"
      ]
     },
     "metadata": {},
     "output_type": "display_data"
    }
   ],
   "source": [
    "#Group by \" Price range \" and calculate the percentage of restaurants with online delivery \n",
    "price_ranges = df1['Average Cost for two'].apply(lambda x: 'Low' if x < 500 else 'Medium' if 500 <= x <= 1000 else 'High')\n",
    "online_delivery_by_price_range = df1.groupby(price_ranges)['Has Online delivery'].value_counts(normalize=True).unstack()\n",
    "\n",
    "online_delivery_by_price_range.plot(kind = 'bar', stacked = True , colormap = 'viridis', figsize =(10,6))\n",
    "plt.title(' Online Delivery Availability by Price range ')\n",
    "plt.xlabel('Price range')\n",
    "plt.ylabel('Percentage of Restaurants with Online Delivery')\n",
    "plt.xticks(rotation =0)\n",
    "plt.legend(title = 'Online Delivery', bbox_to_anchor=(1.05 ,1))\n",
    "\n",
    "plt.show()"
   ]
  },
  {
   "cell_type": "code",
   "execution_count": 12,
   "id": "094ec8db",
   "metadata": {},
   "outputs": [
    {
     "name": "stdout",
     "output_type": "stream",
     "text": [
      "Online Delivery Availability by Price Range:\n",
      "Has Online delivery         No       Yes\n",
      "Average Cost for two                    \n",
      "High                  0.719149  0.280851\n",
      "Low                   0.858523  0.141477\n",
      "Medium                0.566209  0.433791\n"
     ]
    }
   ],
   "source": [
    "# Display results\n",
    "print(\"Online Delivery Availability by Price Range:\")\n",
    "print(online_delivery_by_price_range)"
   ]
  },
  {
   "cell_type": "markdown",
   "id": "69f72744",
   "metadata": {},
   "source": [
    "# Results from Task 1"
   ]
  },
  {
   "cell_type": "markdown",
   "id": "25f26352",
   "metadata": {},
   "source": [
    "<ul>\n",
    "    <li>Percentage of restaurants offering Table Booking is 12.12% and Online Delivery is 25.66%.</li>\n",
    "    <li>The average rating is 3.44 with table booking and without table booking  :2.56 </li>\n",
    "    <li>Online delivery availability for medium price range food product is better compare to high and low price range food product </li>\n",
    "<ul>\n",
    "   "
   ]
  },
  {
   "cell_type": "markdown",
   "id": "d79ea896",
   "metadata": {},
   "source": [
    "# Level2 - Task 2 :-"
   ]
  },
  {
   "cell_type": "markdown",
   "id": "67c10e5a",
   "metadata": {},
   "source": [
    "# Task - Price Range Analysis "
   ]
  },
  {
   "cell_type": "markdown",
   "id": "9aa914ec",
   "metadata": {},
   "source": [
    "<b> 1.Determine the most common price range among all restaurants.<b>"
   ]
  },
  {
   "cell_type": "code",
   "execution_count": 13,
   "id": "024ef88c",
   "metadata": {},
   "outputs": [
    {
     "data": {
      "text/plain": [
       "Price range\n",
       "1    4444\n",
       "2    3113\n",
       "3    1408\n",
       "4     586\n",
       "Name: count, dtype: int64"
      ]
     },
     "execution_count": 13,
     "metadata": {},
     "output_type": "execute_result"
    }
   ],
   "source": [
    "df1[\"Price range\"].value_counts()"
   ]
  },
  {
   "cell_type": "code",
   "execution_count": 14,
   "id": "59222585",
   "metadata": {},
   "outputs": [
    {
     "name": "stdout",
     "output_type": "stream",
     "text": [
      "Most Common Price Range among all the Restaurants : 1\n"
     ]
    }
   ],
   "source": [
    "most_common = df1[\"Price range\"].mode()[0]\n",
    "print(\"Most Common Price Range among all the Restaurants :\", most_common)"
   ]
  },
  {
   "cell_type": "markdown",
   "id": "137c4e12",
   "metadata": {},
   "source": [
    "# Calculating average rating for each price range"
   ]
  },
  {
   "cell_type": "code",
   "execution_count": 15,
   "id": "059cccdf",
   "metadata": {
    "scrolled": true
   },
   "outputs": [
    {
     "name": "stdout",
     "output_type": "stream",
     "text": [
      "Average Rating For each price range is Price range\n",
      "1    2.00\n",
      "2    2.94\n",
      "3    3.68\n",
      "4    3.82\n",
      "Name: Aggregate rating, dtype: float64 \n"
     ]
    }
   ],
   "source": [
    "Avg_Rating_by_price_range = df1.groupby('Price range')['Aggregate rating'].mean().round(2)\n",
    "print(\"Average Rating For each price range is {} \".format(Avg_Rating_by_price_range))"
   ]
  },
  {
   "cell_type": "markdown",
   "id": "e0784ac6",
   "metadata": {},
   "source": [
    "<b>3. Highest Average Rating Among Different Price Ranges.<b>"
   ]
  },
  {
   "cell_type": "code",
   "execution_count": 16,
   "id": "7494a4ca",
   "metadata": {},
   "outputs": [
    {
     "data": {
      "image/png": "[encoded data removed]",
      "text/plain": [
       "<Figure size 640x480 with 1 Axes>"
      ]
     },
     "metadata": {},
     "output_type": "display_data"
    }
   ],
   "source": [
    "# find the price range with the highest average rating \n",
    "highest_avg_rating_color = Avg_Rating_by_price_range.idxmax()\n",
    "plt.bar(Avg_Rating_by_price_range.index,Avg_Rating_by_price_range,color = 'yellow', width = 0.5)\n",
    "\n",
    "plt.bar(highest_avg_rating_color,Avg_Rating_by_price_range[highest_avg_rating_color], color = \"orange\", width = 0.5)\n",
    "\n",
    "plt.xlabel('Price range')\n",
    "plt.ylabel('Average Rating')\n",
    "plt.title('Average Rating by Price range ')\n",
    "\n",
    "plt.show()"
   ]
  },
  {
   "cell_type": "markdown",
   "id": "e63f77d5",
   "metadata": {},
   "source": [
    "#  Results from Task 2"
   ]
  },
  {
   "cell_type": "markdown",
   "id": "619730ea",
   "metadata": {},
   "source": [
    "<ul>\n",
    "    <li>Most common price range among all the restaurants is 1</li>\n",
    "    <li>Price range 4 get the highest average rating, which is 3.818 .</li>\n",
    "</ul>\n"
   ]
  },
  {
   "cell_type": "markdown",
   "id": "1114d5f6",
   "metadata": {},
   "source": [
    "# Level 2 - Task 3 "
   ]
  },
  {
   "cell_type": "markdown",
   "id": "1f901592",
   "metadata": {},
   "source": [
    "# Task 3 - Feature Engineering"
   ]
  },
  {
   "cell_type": "markdown",
   "id": "1f82fb8e",
   "metadata": {},
   "source": [
    "<b> 1.Derive additional insights from existing data columns, such as the length of restaurant name or address .<b>"
   ]
  },
  {
   "cell_type": "code",
   "execution_count": 17,
   "id": "cb31231a",
   "metadata": {},
   "outputs": [],
   "source": [
    "# Extract the length of the restaurant name and address and create new columns\n",
    "df1['Restaurant Name Length'] = df1['Restaurant Name'].apply(lambda x : len(str(x)))\n",
    "df1['Address Length'] = df1['Address'].apply(lambda x : len(str(x)))"
   ]
  },
  {
   "cell_type": "code",
   "execution_count": 18,
   "id": "77c9e248",
   "metadata": {},
   "outputs": [
    {
     "data": {
      "text/html": [
       "<div>\n",
       "<style scoped>\n",
       "    .dataframe tbody tr th:only-of-type {\n",
       "        vertical-align: middle;\n",
       "    }\n",
       "\n",
       "    .dataframe tbody tr th {\n",
       "        vertical-align: top;\n",
       "    }\n",
       "\n",
       "    .dataframe thead th {\n",
       "        text-align: right;\n",
       "    }\n",
       "</style>\n",
       "<table border=\"1\" class=\"dataframe\">\n",
       "  <thead>\n",
       "    <tr style=\"text-align: right;\">\n",
       "      <th></th>\n",
       "      <th>Restaurant Name</th>\n",
       "      <th>Restaurant Name Length</th>\n",
       "      <th>Address</th>\n",
       "      <th>Address Length</th>\n",
       "    </tr>\n",
       "  </thead>\n",
       "  <tbody>\n",
       "    <tr>\n",
       "      <th>0</th>\n",
       "      <td>Le Petit Souffle</td>\n",
       "      <td>16</td>\n",
       "      <td>Third Floor, Century City Mall, Kalayaan Avenu...</td>\n",
       "      <td>71</td>\n",
       "    </tr>\n",
       "    <tr>\n",
       "      <th>1</th>\n",
       "      <td>Izakaya Kikufuji</td>\n",
       "      <td>16</td>\n",
       "      <td>Little Tokyo, 2277 Chino Roces Avenue, Legaspi...</td>\n",
       "      <td>67</td>\n",
       "    </tr>\n",
       "    <tr>\n",
       "      <th>2</th>\n",
       "      <td>Heat - Edsa Shangri-La</td>\n",
       "      <td>22</td>\n",
       "      <td>Edsa Shangri-La, 1 Garden Way, Ortigas, Mandal...</td>\n",
       "      <td>56</td>\n",
       "    </tr>\n",
       "    <tr>\n",
       "      <th>3</th>\n",
       "      <td>Ooma</td>\n",
       "      <td>4</td>\n",
       "      <td>Third Floor, Mega Fashion Hall, SM Megamall, O...</td>\n",
       "      <td>70</td>\n",
       "    </tr>\n",
       "    <tr>\n",
       "      <th>4</th>\n",
       "      <td>Sambo Kojin</td>\n",
       "      <td>11</td>\n",
       "      <td>Third Floor, Mega Atrium, SM Megamall, Ortigas...</td>\n",
       "      <td>64</td>\n",
       "    </tr>\n",
       "    <tr>\n",
       "      <th>...</th>\n",
       "      <td>...</td>\n",
       "      <td>...</td>\n",
       "      <td>...</td>\n",
       "      <td>...</td>\n",
       "    </tr>\n",
       "    <tr>\n",
       "      <th>9546</th>\n",
       "      <td>Naml۱ Gurme</td>\n",
       "      <td>11</td>\n",
       "      <td>Kemanke�� Karamustafa Pa��a Mahallesi, R۱ht۱m ...</td>\n",
       "      <td>103</td>\n",
       "    </tr>\n",
       "    <tr>\n",
       "      <th>9547</th>\n",
       "      <td>Ceviz A��ac۱</td>\n",
       "      <td>12</td>\n",
       "      <td>Ko��uyolu Mahallesi, Muhittin ��st�_nda�� Cadd...</td>\n",
       "      <td>77</td>\n",
       "    </tr>\n",
       "    <tr>\n",
       "      <th>9548</th>\n",
       "      <td>Huqqa</td>\n",
       "      <td>5</td>\n",
       "      <td>Kuru�_e��me Mahallesi, Muallim Naci Caddesi, N...</td>\n",
       "      <td>73</td>\n",
       "    </tr>\n",
       "    <tr>\n",
       "      <th>9549</th>\n",
       "      <td>A���k Kahve</td>\n",
       "      <td>11</td>\n",
       "      <td>Kuru�_e��me Mahallesi, Muallim Naci Caddesi, N...</td>\n",
       "      <td>75</td>\n",
       "    </tr>\n",
       "    <tr>\n",
       "      <th>9550</th>\n",
       "      <td>Walter's Coffee Roastery</td>\n",
       "      <td>24</td>\n",
       "      <td>Cafea��a Mahallesi, Bademalt۱ Sokak, No 21/B, ...</td>\n",
       "      <td>65</td>\n",
       "    </tr>\n",
       "  </tbody>\n",
       "</table>\n",
       "<p>9551 rows × 4 columns</p>\n",
       "</div>"
      ],
      "text/plain": [
       "               Restaurant Name  Restaurant Name Length  \\\n",
       "0             Le Petit Souffle                      16   \n",
       "1             Izakaya Kikufuji                      16   \n",
       "2       Heat - Edsa Shangri-La                      22   \n",
       "3                         Ooma                       4   \n",
       "4                  Sambo Kojin                      11   \n",
       "...                        ...                     ...   \n",
       "9546               Naml۱ Gurme                      11   \n",
       "9547              Ceviz A��ac۱                      12   \n",
       "9548                     Huqqa                       5   \n",
       "9549               A���k Kahve                      11   \n",
       "9550  Walter's Coffee Roastery                      24   \n",
       "\n",
       "                                                Address  Address Length  \n",
       "0     Third Floor, Century City Mall, Kalayaan Avenu...              71  \n",
       "1     Little Tokyo, 2277 Chino Roces Avenue, Legaspi...              67  \n",
       "2     Edsa Shangri-La, 1 Garden Way, Ortigas, Mandal...              56  \n",
       "3     Third Floor, Mega Fashion Hall, SM Megamall, O...              70  \n",
       "4     Third Floor, Mega Atrium, SM Megamall, Ortigas...              64  \n",
       "...                                                 ...             ...  \n",
       "9546  Kemanke�� Karamustafa Pa��a Mahallesi, R۱ht۱m ...             103  \n",
       "9547  Ko��uyolu Mahallesi, Muhittin ��st�_nda�� Cadd...              77  \n",
       "9548  Kuru�_e��me Mahallesi, Muallim Naci Caddesi, N...              73  \n",
       "9549  Kuru�_e��me Mahallesi, Muallim Naci Caddesi, N...              75  \n",
       "9550  Cafea��a Mahallesi, Bademalt۱ Sokak, No 21/B, ...              65  \n",
       "\n",
       "[9551 rows x 4 columns]"
      ]
     },
     "execution_count": 18,
     "metadata": {},
     "output_type": "execute_result"
    }
   ],
   "source": [
    "df1[['Restaurant Name', 'Restaurant Name Length', 'Address','Address Length']]"
   ]
  },
  {
   "cell_type": "markdown",
   "id": "07fd5c2a",
   "metadata": {},
   "source": [
    "<b> 2.Create new attributes such as \"Has Table Booking\" and \"Has Online Delivery\" through categorical variable encoding,<b>"
   ]
  },
  {
   "cell_type": "code",
   "execution_count": 19,
   "id": "1da4c22b",
   "metadata": {},
   "outputs": [],
   "source": [
    "#creating new attributes such as \"Has Table Booking\" and \"Has Online Delivery\"\n",
    "df1['Has Table booking']= df1['Has Table booking'].apply(lambda x : 1 if x== 'Yes' else 0)\n",
    "df1['Has Online delivery'] = df1['Has Online delivery'].apply(lambda x : 1 if x== 'Yes' else 0)"
   ]
  },
  {
   "cell_type": "code",
   "execution_count": 20,
   "id": "74fbed81",
   "metadata": {},
   "outputs": [
    {
     "data": {
      "text/html": [
       "<div>\n",
       "<style scoped>\n",
       "    .dataframe tbody tr th:only-of-type {\n",
       "        vertical-align: middle;\n",
       "    }\n",
       "\n",
       "    .dataframe tbody tr th {\n",
       "        vertical-align: top;\n",
       "    }\n",
       "\n",
       "    .dataframe thead th {\n",
       "        text-align: right;\n",
       "    }\n",
       "</style>\n",
       "<table border=\"1\" class=\"dataframe\">\n",
       "  <thead>\n",
       "    <tr style=\"text-align: right;\">\n",
       "      <th></th>\n",
       "      <th>Has Table booking</th>\n",
       "      <th>Has Table booking</th>\n",
       "      <th>Has Online delivery</th>\n",
       "      <th>Has Online delivery</th>\n",
       "    </tr>\n",
       "  </thead>\n",
       "  <tbody>\n",
       "    <tr>\n",
       "      <th>0</th>\n",
       "      <td>1</td>\n",
       "      <td>1</td>\n",
       "      <td>0</td>\n",
       "      <td>0</td>\n",
       "    </tr>\n",
       "    <tr>\n",
       "      <th>1</th>\n",
       "      <td>1</td>\n",
       "      <td>1</td>\n",
       "      <td>0</td>\n",
       "      <td>0</td>\n",
       "    </tr>\n",
       "    <tr>\n",
       "      <th>2</th>\n",
       "      <td>1</td>\n",
       "      <td>1</td>\n",
       "      <td>0</td>\n",
       "      <td>0</td>\n",
       "    </tr>\n",
       "    <tr>\n",
       "      <th>3</th>\n",
       "      <td>0</td>\n",
       "      <td>0</td>\n",
       "      <td>0</td>\n",
       "      <td>0</td>\n",
       "    </tr>\n",
       "    <tr>\n",
       "      <th>4</th>\n",
       "      <td>1</td>\n",
       "      <td>1</td>\n",
       "      <td>0</td>\n",
       "      <td>0</td>\n",
       "    </tr>\n",
       "    <tr>\n",
       "      <th>...</th>\n",
       "      <td>...</td>\n",
       "      <td>...</td>\n",
       "      <td>...</td>\n",
       "      <td>...</td>\n",
       "    </tr>\n",
       "    <tr>\n",
       "      <th>9546</th>\n",
       "      <td>0</td>\n",
       "      <td>0</td>\n",
       "      <td>0</td>\n",
       "      <td>0</td>\n",
       "    </tr>\n",
       "    <tr>\n",
       "      <th>9547</th>\n",
       "      <td>0</td>\n",
       "      <td>0</td>\n",
       "      <td>0</td>\n",
       "      <td>0</td>\n",
       "    </tr>\n",
       "    <tr>\n",
       "      <th>9548</th>\n",
       "      <td>0</td>\n",
       "      <td>0</td>\n",
       "      <td>0</td>\n",
       "      <td>0</td>\n",
       "    </tr>\n",
       "    <tr>\n",
       "      <th>9549</th>\n",
       "      <td>0</td>\n",
       "      <td>0</td>\n",
       "      <td>0</td>\n",
       "      <td>0</td>\n",
       "    </tr>\n",
       "    <tr>\n",
       "      <th>9550</th>\n",
       "      <td>0</td>\n",
       "      <td>0</td>\n",
       "      <td>0</td>\n",
       "      <td>0</td>\n",
       "    </tr>\n",
       "  </tbody>\n",
       "</table>\n",
       "<p>9551 rows × 4 columns</p>\n",
       "</div>"
      ],
      "text/plain": [
       "      Has Table booking  Has Table booking  Has Online delivery  \\\n",
       "0                     1                  1                    0   \n",
       "1                     1                  1                    0   \n",
       "2                     1                  1                    0   \n",
       "3                     0                  0                    0   \n",
       "4                     1                  1                    0   \n",
       "...                 ...                ...                  ...   \n",
       "9546                  0                  0                    0   \n",
       "9547                  0                  0                    0   \n",
       "9548                  0                  0                    0   \n",
       "9549                  0                  0                    0   \n",
       "9550                  0                  0                    0   \n",
       "\n",
       "      Has Online delivery  \n",
       "0                       0  \n",
       "1                       0  \n",
       "2                       0  \n",
       "3                       0  \n",
       "4                       0  \n",
       "...                   ...  \n",
       "9546                    0  \n",
       "9547                    0  \n",
       "9548                    0  \n",
       "9549                    0  \n",
       "9550                    0  \n",
       "\n",
       "[9551 rows x 4 columns]"
      ]
     },
     "execution_count": 20,
     "metadata": {},
     "output_type": "execute_result"
    }
   ],
   "source": [
    "df1[['Has Table booking','Has Table booking','Has Online delivery','Has Online delivery']]"
   ]
  },
  {
   "cell_type": "markdown",
   "id": "90c9173e",
   "metadata": {},
   "source": [
    "# Results From Task 3"
   ]
  },
  {
   "cell_type": "markdown",
   "id": "d7950029",
   "metadata": {},
   "source": [
    "<ul>\n",
    "    <li> Two new columns, 'Restaurant Name Length' and 'Address Length', have been added to indicate the character count of the restaurant name and address, respectively.</li>\n",
    "    <li>Also two new binary column added by encoding categorical variables, 'Has Table booking' and 'Has Online delivery' </li>\n",
    "</ul>\n"
   ]
  },
  {
   "cell_type": "markdown",
   "id": "7ca963a1",
   "metadata": {},
   "source": [
    "# Conclusion"
   ]
  },
  {
   "cell_type": "markdown",
   "id": "ca3a7c98",
   "metadata": {},
   "source": [
    "The insights which i found from the overall level 1 project:\n"
   ]
  },
  {
   "cell_type": "markdown",
   "id": "8af2a1ba",
   "metadata": {},
   "source": [
    "<b> 1.Table Booking and Online Delivery:<b>\n"
   ]
  },
  {
   "cell_type": "markdown",
   "id": "94f3b52d",
   "metadata": {},
   "source": [
    "<ul>\n",
    "    <li>About 12.12% of restaurants allow table reservations, while 25.66% offer online delivery options.</li>\n",
    "    <li>Restaurants that allow you to book a table tend to have better ratings, with an average of 3.44, while those without this option usually have lower ratings, averaging at 2.56. </li>\n",
    "    <li>Restaurants that sell medium-priced food items are more likely to offer online delivery services </li>\n",
    "</ul>\n",
    "\n"
   ]
  },
  {
   "cell_type": "markdown",
   "id": "751962b8",
   "metadata": {},
   "source": [
    "<b> 2.Price Range Analysis:<b>\n",
    "    "
   ]
  },
  {
   "cell_type": "markdown",
   "id": "e3a974ba",
   "metadata": {},
   "source": [
    "<ul>\n",
    "    <li>The most common price range among restaurants is 1 .</li>\n",
    "    <li>Restaurants in price range 4 achieve the highest average rating at 3.818, followed by price ranges 3, 2, and 1. </li>\n",
    "</ul>"
   ]
  },
  {
   "cell_type": "markdown",
   "id": "4c58c78e",
   "metadata": {},
   "source": [
    "<b> 3.Feature Engineering: <b>"
   ]
  },
  {
   "cell_type": "markdown",
   "id": "ef155252",
   "metadata": {},
   "source": [
    "<ul>\n",
    "    <li>Introduced two new columns, 'Restaurant Name Length' and 'Address Length,' based on the length of restaurant names and addresses. </li>\n",
    "    <li>Furthermore, I established two binary columns, 'Has Table Booking' and 'Has Online Delivery,' through the encoding of categorical variables. </li>\n"
   ]
  },
  {
   "cell_type": "markdown",
   "id": "cb3f324f",
   "metadata": {},
   "source": [
    "These discoveries offer valuable insights into how services, price ranges, and ratings are interrelated in the restaurant dataset, enriching our comprehension of the industry."
   ]
  },
  {
   "cell_type": "code",
   "execution_count": null,
   "id": "f666a215",
   "metadata": {},
   "outputs": [],
   "source": []
  }
 ],
 "metadata": {
  "kernelspec": {
   "display_name": "Python 3 (ipykernel)",
   "language": "python",
   "name": "python3"
  },
  "language_info": {
   "codemirror_mode": {
    "name": "ipython",
    "version": 3
   },
   "file_extension": ".py",
   "mimetype": "text/x-python",
   "name": "python",
   "nbconvert_exporter": "python",
   "pygments_lexer": "ipython3",
   "version": "3.11.5"
  }
 },
 "nbformat": 4,
 "nbformat_minor": 5
}
